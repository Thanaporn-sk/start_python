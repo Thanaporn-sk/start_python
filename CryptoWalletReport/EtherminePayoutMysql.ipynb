{
 "cells": [
  {
   "cell_type": "code",
   "execution_count": null,
   "metadata": {},
   "outputs": [],
   "source": [
    "from bs4 import BeautifulSoup\n",
    "from urllib.request import Request, urlopen\n",
    "import pandas as pd\n",
    "import numpy as np\n",
    "#from tabulate import tabulate"
   ]
  },
  {
   "cell_type": "code",
   "execution_count": null,
   "metadata": {},
   "outputs": [],
   "source": [
    "#!pip install pymysql"
   ]
  },
  {
   "cell_type": "code",
   "execution_count": null,
   "metadata": {},
   "outputs": [],
   "source": [
    "#!Pip install selenium"
   ]
  },
  {
   "cell_type": "code",
   "execution_count": null,
   "metadata": {},
   "outputs": [],
   "source": [
    "from selenium import webdriver\n",
    "from selenium.webdriver.chrome.options import Options\n",
    "from selenium.webdriver.chrome.service import Service\n",
    "from PIL import Image\n",
    "import datetime as DT\n",
    "import time"
   ]
  },
  {
   "cell_type": "code",
   "execution_count": null,
   "metadata": {},
   "outputs": [],
   "source": [
    "from re import search\n",
    "import csv\n",
    "import os\n",
    "import requests\n",
    "from sqlalchemy import create_engine\n",
    "\n",
    "import pymysql"
   ]
  },
  {
   "cell_type": "code",
   "execution_count": null,
   "metadata": {},
   "outputs": [],
   "source": [
    "# Credentials to database connection\n",
    "hostname=\"mysql_db_ip_address\"\n",
    "dbname=\"db_name\"\n",
    "uname=\"db_user_name\"\n",
    "pwd=\"db_password\"\n",
    "ethTxTable=\"ethtrans2\"\n",
    "# Create SQLAlchemy engine to connect to MySQL Database\n",
    "engine = create_engine(\"mysql+pymysql://{user}:{pw}@{host}/{db}\".format(host=hostname, db=dbname, user=uname, pw=pwd))"
   ]
  },
  {
   "cell_type": "code",
   "execution_count": null,
   "metadata": {},
   "outputs": [],
   "source": [
    "chrome_driver_path='path\\to\\chromedriver.exe'\n",
    "eth_wallet='eth wallet'"
   ]
  },
  {
   "cell_type": "code",
   "execution_count": null,
   "metadata": {},
   "outputs": [],
   "source": [
    "csv_temp_file='temp file.csv'\n",
    "csv_final_file='final file.csv'"
   ]
  },
  {
   "cell_type": "code",
   "execution_count": null,
   "metadata": {},
   "outputs": [],
   "source": [
    "def getPayoutFromEthermine(wallet_):\n",
    "    url_= 'https://ethermine.org/miners/'+ wallet_+'/payouts'\n",
    "    #s=Service('D:\\\\libs\\\\chromedriver.exe')\n",
    "    #driver = webdriver.Chrome(service=s)\n",
    "    driver = webdriver.Chrome(executable_path=chrome_driver_path)\n",
    "    driver.get(url_)\n",
    "    time.sleep(10)\n",
    "\n",
    "    content=BeautifulSoup(driver.page_source, 'lxml')\n",
    "    table = content.find_all('table')[0]\n",
    "    rows = []\n",
    "\n",
    "    for tr in table.find_all('tr'):\n",
    "        rows.append([td.text for td in tr.find_all(['th', 'td'])])\n",
    "        \n",
    "    cols=['PaidOn','FromBlock','ToBlock','Duration','Amount','TxHash']\n",
    "    df = pd.DataFrame(rows[1:], columns=cols)\n",
    "    df.PaidOn =df.PaidOn.str.replace('.','',regex=True)\n",
    "    df['PaidOnDate'] = pd.to_datetime(df.PaidOn, format='%d %b %Y %H:%M', errors='raise').copy()\n",
    "    return df"
   ]
  },
  {
   "cell_type": "code",
   "execution_count": null,
   "metadata": {},
   "outputs": [],
   "source": [
    "def insertToDB(df_,insert_mode='append'):\n",
    "    # Convert dataframe to sql table                                   \n",
    "    df_.to_sql(ethTxTable, engine,if_exists=insert_mode, index=False)"
   ]
  },
  {
   "cell_type": "code",
   "execution_count": null,
   "metadata": {},
   "outputs": [],
   "source": [
    "def getLastPayoutDB():\n",
    "    df2 = pd.read_sql('SELECT * FROM ' + ethTxTable + ' where paidOnDate = (select max(paidOnDate) from ' + ethTxTable + ')', con=engine)\n",
    "    return df2.PaidOn[0]"
   ]
  },
  {
   "cell_type": "code",
   "execution_count": null,
   "metadata": {},
   "outputs": [],
   "source": [
    "\n",
    "def writeCsvFile(fname,data_):           \n",
    "    outFile=fname        \n",
    "    with open(outFile, 'w',newline='' ) as csvfile:\n",
    "        csvwriter = csv.writer(csvfile)        \n",
    "        for line in data_:            \n",
    "            #print(line)\n",
    "            csvwriter.writerow(line)\n"
   ]
  },
  {
   "cell_type": "code",
   "execution_count": null,
   "metadata": {},
   "outputs": [],
   "source": [
    "def getNewRow(df_):\n",
    "    lastPayout = getLastPayoutDB()\n",
    "    print(lastPayout)\n",
    "    r_index = 0\n",
    "    for index, row in df_.iterrows():\n",
    "        if (row.PaidOn == lastPayout):\n",
    "            print(index)\n",
    "            r_index = index\n",
    "            break\n",
    "        else :\n",
    "            r_index = index\n",
    "            print (row.PaidOn+ ' '+ lastPayout)\n",
    "    print('new Row' + str(r_index))    \n",
    "    return df_[:r_index]      "
   ]
  },
  {
   "cell_type": "code",
   "execution_count": null,
   "metadata": {},
   "outputs": [],
   "source": [
    "def getTransactionToDb(first_time=False):\n",
    "    dfx =  getPayoutFromEthermine(eth_wallet)\n",
    "    if(first_time == True):\n",
    "        insertToDB(dfx)\n",
    "    else:\n",
    "        try:            \n",
    "            newRow=getNewRow(dfx)            \n",
    "            insertToDB(newRow)\n",
    "        except Exception as e:\n",
    "            print('No new Transaction')\n",
    "            print (e)"
   ]
  },
  {
   "cell_type": "code",
   "execution_count": null,
   "metadata": {},
   "outputs": [],
   "source": []
  },
  {
   "cell_type": "code",
   "execution_count": null,
   "metadata": {},
   "outputs": [],
   "source": [
    "def getDataFromDb():\n",
    "    df2 = pd.read_sql('SELECT * FROM ' + ethTxTable , con=engine)\n",
    "    df2.Amount = df2.Amount.astype('float64')\n",
    "    df2['Month'] = df2['PaidOnDate'].dt.strftime(\"%Y-%m\")\n",
    "    df2['Year'] = df2['PaidOnDate'].dt.strftime(\"%Y\")\n",
    "    #data_g =df2.groupby('Month').agg({'Amount': [ 'max','sum','count']})\n",
    "    #data_gYear =df2.groupby('Year').agg({'Amount': [ 'max','sum','count']})\n",
    "    p = df2.pivot_table(['Amount'], index='Month', aggfunc=['count','sum'],margins=True)\n",
    "    p.columns=['Transfer_time','Amt_Eth']\n",
    "    p = p.sort_values(by='Month', ascending = False)\n",
    "    p['Amt2'] = p['Amt_Eth'].astype(str)\n",
    "    p.reset_index(inplace = False)\n",
    "    p.T.drop('Amt2').to_csv(csv_temp_file,index=True,float_format='%.5f') "
   ]
  },
  {
   "cell_type": "code",
   "execution_count": null,
   "metadata": {},
   "outputs": [],
   "source": [
    "def createCsvFile():\n",
    "    with open(csv_temp_file) as file:\n",
    "        content = file.readlines()\n",
    "        header = content[:1]\n",
    "        rows = content[1:]\n",
    "        rows=content\n",
    "        #print(header)\n",
    "        #print(rows)\n",
    "        new_content=[] \n",
    "        #new_content.append(header)\n",
    "\n",
    "        for i in range(len(rows)):\n",
    "            #print (str(i) + rows[i])\n",
    "            r =rows[i]\n",
    "            cls = r.split(',')\n",
    "            if i == 2:\n",
    "                res = [str(\"{:.5f}\".format(float(cls[value]))) for value in range(1,len(cls))]\n",
    "                res.insert(0,cls[0])\n",
    "                new_content.append(res)\n",
    "            else:\n",
    "                new_content.append(cls)\n",
    "\n",
    "        writeCsvFile(csv_final_file,new_content) "
   ]
  },
  {
   "cell_type": "code",
   "execution_count": null,
   "metadata": {},
   "outputs": [],
   "source": [
    "getTransactionToDb(False)\n",
    "getDataFromDb()\n",
    "createCsvFile()"
   ]
  },
  {
   "cell_type": "code",
   "execution_count": null,
   "metadata": {},
   "outputs": [],
   "source": []
  },
  {
   "cell_type": "code",
   "execution_count": null,
   "metadata": {},
   "outputs": [],
   "source": []
  },
  {
   "cell_type": "code",
   "execution_count": null,
   "metadata": {},
   "outputs": [],
   "source": [
    "#!jupyter nbconvert --to script EtherminePayoutMysql.ipynb"
   ]
  },
  {
   "cell_type": "code",
   "execution_count": null,
   "metadata": {},
   "outputs": [],
   "source": []
  }
 ],
 "metadata": {
  "kernelspec": {
   "display_name": "Python 3",
   "language": "python",
   "name": "python3"
  },
  "language_info": {
   "codemirror_mode": {
    "name": "ipython",
    "version": 3
   },
   "file_extension": ".py",
   "mimetype": "text/x-python",
   "name": "python",
   "nbconvert_exporter": "python",
   "pygments_lexer": "ipython3",
   "version": "3.6.5"
  }
 },
 "nbformat": 4,
 "nbformat_minor": 5
}
