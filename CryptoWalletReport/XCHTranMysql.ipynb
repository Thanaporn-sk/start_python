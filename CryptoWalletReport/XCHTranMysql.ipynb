{
 "cells": [
  {
   "cell_type": "code",
   "execution_count": null,
   "metadata": {},
   "outputs": [],
   "source": [
    "from bs4 import BeautifulSoup\n",
    "from urllib.request import Request, urlopen\n",
    "import pandas as pd\n",
    "import numpy as np\n",
    "\n",
    "#from tabulate import tabulate"
   ]
  },
  {
   "cell_type": "code",
   "execution_count": null,
   "metadata": {},
   "outputs": [],
   "source": [
    "from datetime import datetime"
   ]
  },
  {
   "cell_type": "code",
   "execution_count": null,
   "metadata": {},
   "outputs": [],
   "source": [
    "#!pip install pymysql"
   ]
  },
  {
   "cell_type": "code",
   "execution_count": null,
   "metadata": {},
   "outputs": [],
   "source": [
    "#!Pip install selenium"
   ]
  },
  {
   "cell_type": "code",
   "execution_count": null,
   "metadata": {},
   "outputs": [],
   "source": [
    "from selenium import webdriver\n",
    "from selenium.webdriver.chrome.options import Options\n",
    "from selenium.webdriver.chrome.service import Service\n",
    "from PIL import Image\n",
    "import datetime as DT\n",
    "import time"
   ]
  },
  {
   "cell_type": "code",
   "execution_count": null,
   "metadata": {},
   "outputs": [],
   "source": [
    "from re import search\n",
    "import csv\n",
    "import os\n",
    "import requests\n",
    "from sqlalchemy import create_engine\n",
    "import json\n",
    "import pymysql"
   ]
  },
  {
   "cell_type": "code",
   "execution_count": null,
   "metadata": {},
   "outputs": [],
   "source": [
    "# Credentials to database connection\n",
    "hostname=\"mysql_db_ip_address\"\n",
    "dbname=\"db_name\"\n",
    "uname=\"db_user_name\"\n",
    "pwd=\"db_password\"\n",
    "xchTxTable=\"xchtrans\"\n",
    "# Create SQLAlchemy engine to connect to MySQL Database\n",
    "engine = create_engine(\"mysql+pymysql://{user}:{pw}@{host}/{db}\".format(host=hostname, db=dbname, user=uname, pw=pwd))"
   ]
  },
  {
   "cell_type": "code",
   "execution_count": null,
   "metadata": {},
   "outputs": [],
   "source": [
    "xchWallet='xch wallet'\n"
   ]
  },
  {
   "cell_type": "code",
   "execution_count": null,
   "metadata": {},
   "outputs": [],
   "source": [
    "csv_temp_file='temp file.csv'\n",
    "csv_final_file='final file.csv'"
   ]
  },
  {
   "cell_type": "code",
   "execution_count": null,
   "metadata": {},
   "outputs": [],
   "source": [
    "def insertToDB(df_,insert_mode='append'):\n",
    "    # Convert dataframe to sql table                                   \n",
    "    df_.to_sql(xchTxTable, engine,if_exists=insert_mode, index=False)"
   ]
  },
  {
   "cell_type": "code",
   "execution_count": null,
   "metadata": {},
   "outputs": [],
   "source": [
    "def getTrans(offset_=0,limit_=25,wallet_=xchWallet):\n",
    "    url_='https://xchscan.com/api/account/txns?address='+ wallet_ +'&limit='+ str(limit_) +'&offset=' + str(offset_)\n",
    "    req = requests.get(url_)\n",
    "    return req.json()['txns']\n"
   ]
  },
  {
   "cell_type": "code",
   "execution_count": null,
   "metadata": {},
   "outputs": [],
   "source": [
    "def getAllTrans(wallet_):\n",
    "    o=0\n",
    "    l=25\n",
    "    next = True\n",
    "    data_=[]\n",
    "    while next:\n",
    "        txs = getTrans(o,l, wallet_)\n",
    "        #print (len(txs))\n",
    "        if(len(txs)> 0):\n",
    "            data_.extend(txs)\n",
    "        if(len(txs) < l):\n",
    "            next = False\n",
    "        else:            \n",
    "            o = o + l\n",
    "    return data_            "
   ]
  },
  {
   "cell_type": "code",
   "execution_count": null,
   "metadata": {},
   "outputs": [],
   "source": [
    "def getTransaction(wallet_,all_=False):\n",
    "    if all_:\n",
    "        return getAllTrans(wallet_)\n",
    "    else :\n",
    "        return getTrans(0,25,wallet_)"
   ]
  },
  {
   "cell_type": "code",
   "execution_count": null,
   "metadata": {},
   "outputs": [],
   "source": [
    "def getTransactionFromXchscan(wallet_,all_=False):\n",
    "    data_ = getTransaction(wallet_,all_)\n",
    "    df = pd.DataFrame(data_)\n",
    "    df_formatted = df[['timestamp','from','to','amount']]\n",
    "    \n",
    "    return df_formatted"
   ]
  },
  {
   "cell_type": "code",
   "execution_count": null,
   "metadata": {},
   "outputs": [],
   "source": [
    "def getLastTransactionFromDB():\n",
    "    df2 = pd.read_sql('SELECT * FROM ' + xchTxTable + ' where timestamp = (select max(timestamp) from ' + xchTxTable + ')', con=engine)\n",
    "    return df2.timestamp[0]"
   ]
  },
  {
   "cell_type": "code",
   "execution_count": null,
   "metadata": {},
   "outputs": [],
   "source": [
    "\n",
    "def writeCsvFile(fname,data_):           \n",
    "    outFile=fname        \n",
    "    with open(outFile, 'w',newline='' ) as csvfile:\n",
    "        csvwriter = csv.writer(csvfile)        \n",
    "        for line in data_:  \n",
    "            csvwriter.writerow(line)"
   ]
  },
  {
   "cell_type": "code",
   "execution_count": null,
   "metadata": {},
   "outputs": [],
   "source": [
    "def getNewRow(df_):\n",
    "    lastPayout = getLastTransactionFromDB()\n",
    "    print(lastPayout)\n",
    "    r_index = 0\n",
    "    for index, row in df_.iterrows():\n",
    "        if (row.timestamp == lastPayout):\n",
    "            print(index)\n",
    "            r_index = index\n",
    "            break\n",
    "        else :\n",
    "            r_index = index\n",
    "            print (row.timestamp+ ' '+ lastPayout)\n",
    "    print('new Row' + str(r_index))    \n",
    "    return df_[:r_index]      "
   ]
  },
  {
   "cell_type": "code",
   "execution_count": null,
   "metadata": {},
   "outputs": [],
   "source": [
    "def getTransactionsToDb(first_time=False):\n",
    "    dfx =  getTransactionFromXchscan(xchWallet,first_time)\n",
    "    if(first_time == True):\n",
    "        insertToDB(dfx,'replace')\n",
    "    else:\n",
    "        try:            \n",
    "            newRow=getNewRow(dfx)            \n",
    "            insertToDB(newRow,'append')\n",
    "        except Exception as e:\n",
    "            print('No new Transaction')\n",
    "            print (e)"
   ]
  },
  {
   "cell_type": "code",
   "execution_count": null,
   "metadata": {},
   "outputs": [],
   "source": [
    "### folowing function for getTransaction from Database and generate to CSV file for create report"
   ]
  },
  {
   "cell_type": "code",
   "execution_count": null,
   "metadata": {},
   "outputs": [],
   "source": [
    "\n",
    "def createTempCsv():\n",
    "    df2 = pd.read_sql('SELECT * FROM ' + xchTxTable , con=engine)\n",
    "    df2['xch']=df2['amount']/1000000000000\n",
    "    df2['date_time'] =  pd.to_datetime(df2['timestamp'], unit='s',  errors='coerce')\n",
    "    #https://towardsdatascience.com/10-tricks-for-converting-numbers-and-strings-to-datetime-in-pandas-82a4645fc23d\n",
    "\n",
    "    df2['month'] = df2['date_time'].dt.strftime('%Y-%m')\n",
    "    p = df2.pivot_table(['xch'], index='month', aggfunc=['count','sum'],margins=True)\n",
    "    p.columns=['Transfer_time','Amt_xch']\n",
    "    p = p.sort_values(by='month', ascending = False)\n",
    "    p['Amt2'] = p['Amt_xch'].astype(str)\n",
    "    p.reset_index(inplace = False)\n",
    "    p.T.drop('Amt2').to_csv(csv_temp_file,index=True,float_format='%.5f') "
   ]
  },
  {
   "cell_type": "code",
   "execution_count": null,
   "metadata": {},
   "outputs": [],
   "source": [
    "def createCsvForReport():\n",
    "    with open(csv_temp_file) as file:\n",
    "        content = file.readlines()\n",
    "        header = content[:1]\n",
    "        rows = content[1:]\n",
    "        rows=content\n",
    "        new_content=[] \n",
    "        #new_content.append(header)\n",
    "\n",
    "        for i in range(len(rows)):\n",
    "            r =rows[i]\n",
    "            cls = r.split(',')\n",
    "            if i == 2:\n",
    "                res = [str(\"{:.5f}\".format(float(cls[value]))) for value in range(1,len(cls))]\n",
    "                res.insert(0,cls[0])\n",
    "                new_content.append(res)\n",
    "            else:\n",
    "                new_content.append(cls)\n",
    "\n",
    "        writeCsvFile(csv_final_file,new_content) "
   ]
  },
  {
   "cell_type": "code",
   "execution_count": null,
   "metadata": {},
   "outputs": [],
   "source": [
    "# update Transaction to local database\n",
    "getTransactionsToDb(True)\n",
    "# create csv file for report\n",
    "createTempCsv()\n",
    "createCsvForReport()"
   ]
  },
  {
   "cell_type": "code",
   "execution_count": null,
   "metadata": {},
   "outputs": [],
   "source": []
  },
  {
   "cell_type": "code",
   "execution_count": null,
   "metadata": {},
   "outputs": [],
   "source": []
  },
  {
   "cell_type": "code",
   "execution_count": null,
   "metadata": {},
   "outputs": [],
   "source": []
  },
  {
   "cell_type": "code",
   "execution_count": null,
   "metadata": {},
   "outputs": [],
   "source": [
    "#!jupyter nbconvert --to script XCHTranMysql.ipynb"
   ]
  },
  {
   "cell_type": "code",
   "execution_count": null,
   "metadata": {},
   "outputs": [],
   "source": []
  }
 ],
 "metadata": {
  "kernelspec": {
   "display_name": "Python 3",
   "language": "python",
   "name": "python3"
  },
  "language_info": {
   "codemirror_mode": {
    "name": "ipython",
    "version": 3
   },
   "file_extension": ".py",
   "mimetype": "text/x-python",
   "name": "python",
   "nbconvert_exporter": "python",
   "pygments_lexer": "ipython3",
   "version": "3.6.5"
  }
 },
 "nbformat": 4,
 "nbformat_minor": 5
}
