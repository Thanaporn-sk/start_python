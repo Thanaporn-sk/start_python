{
 "cells": [
  {
   "cell_type": "code",
   "execution_count": null,
   "id": "f2e57e92-5e2b-4eca-9207-5d580d28f5dd",
   "metadata": {},
   "outputs": [],
   "source": [
    "from flask import Flask, make_response\n",
    "from fpdf import FPDF\n",
    "\n",
    "app = Flask(__name__)\n",
    "\n",
    "@app.route('/generate_pdf', methods=['GET'])\n",
    "def hello_world():\n",
    "    pdf = FPDF()\n",
    "    pdf.add_page()\n",
    "    pdf.set_font(\"Helvetica\", size=24)\n",
    "    pdf.cell(txt=\"hello world\")\n",
    "    response = make_response(pdf.output())\n",
    "    response.headers[\"Content-Type\"] = \"application/pdf\"\n",
    "    return response\n",
    "\n",
    "\n",
    "if __name__== '__main__':\n",
    "    app.run(port=5007)"
   ]
  }
 ],
 "metadata": {
  "kernelspec": {
   "display_name": "Python 3 (ipykernel)",
   "language": "python",
   "name": "python3"
  },
  "language_info": {
   "codemirror_mode": {
    "name": "ipython",
    "version": 3
   },
   "file_extension": ".py",
   "mimetype": "text/x-python",
   "name": "python",
   "nbconvert_exporter": "python",
   "pygments_lexer": "ipython3",
   "version": "3.9.7"
  }
 },
 "nbformat": 4,
 "nbformat_minor": 5
}
