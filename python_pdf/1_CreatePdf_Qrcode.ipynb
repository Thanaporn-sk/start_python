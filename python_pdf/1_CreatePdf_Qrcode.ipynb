{
 "cells": [
  {
   "cell_type": "code",
   "execution_count": null,
   "id": "4caf45b4-ba04-456b-8f5b-9063a823bc9f",
   "metadata": {},
   "outputs": [],
   "source": [
    "#ref \n",
    "#    https://pypi.org/project/fpdf2/\n",
    "#    https://pyfpdf.github.io/fpdf2/Barcodes.html\n",
    "#\n",
    "#DESCRIPTION : How to create .pdf file in Python"
   ]
  },
  {
   "cell_type": "code",
   "execution_count": null,
   "id": "1852f6c0-e902-4116-99ea-2bfec245a2b1",
   "metadata": {},
   "outputs": [],
   "source": [
    "#!pip install fpdf2"
   ]
  },
  {
   "cell_type": "code",
   "execution_count": null,
   "id": "992bbbab-8577-4aed-80b2-d1064ac04b3a",
   "metadata": {},
   "outputs": [],
   "source": [
    "#!pip install qrcode[pil]"
   ]
  },
  {
   "cell_type": "code",
   "execution_count": null,
   "id": "bef0383f-048a-45a0-9ef0-b0deb8b977d1",
   "metadata": {},
   "outputs": [],
   "source": [
    "from fpdf import FPDF, HTMLMixin\n",
    "import qrcode"
   ]
  },
  {
   "cell_type": "code",
   "execution_count": null,
   "id": "82069d25-105d-411f-aba2-ddeee45724db",
   "metadata": {},
   "outputs": [],
   "source": [
    "# test Hello world\n",
    "\n",
    "pdf = FPDF()\n",
    "pdf.add_page()\n",
    "pdf.set_font('helvetica', size=12)\n",
    "pdf.cell(txt=\"hello world\")\n",
    "pdf.output(\"hello_world.pdf\")"
   ]
  },
  {
   "cell_type": "code",
   "execution_count": null,
   "id": "75a7a15c-60eb-48bc-a50f-11e44541592b",
   "metadata": {},
   "outputs": [],
   "source": [
    "# Carton label\n",
    "data = [{\"name\":'carton label',\n",
    "         \"tags\":{'description':'Carton label',\n",
    "                'version':'0.1'},\n",
    "        \"fields\":[{'name':'CARTON NUMBER' ,'label':'CARTON NUMBER'  ,'pos_x':10  ,'pos_y':10  ,'value':'123456789'   },\n",
    "                  {'name':'PRODUCT CODE'  ,'label':'PRODUCT CODE'  ,'pos_x':10  ,'pos_y':20  ,'value':'PROD001' , } ,\n",
    "                  {'name':'PRODUCT DESC'  ,'label':'PRODUCT DESC'  ,'pos_x':10  ,'pos_y':30  ,'value':'PROD DESC' , } ,\n",
    "                  {'name':'PRODUCT DATE'  ,'label':'PRODUCT DATE'  ,'pos_x':10  ,'pos_y':40  ,'value':'2022-06-06' , } ,\n",
    "                  {'name':'WEIGHT_LABLE'  ,'label':''  ,'pos_x':10  ,'pos_y':50  ,'value':'GROSS WEIGHT              NET WEIGHT  ' , } ,\n",
    "                  {'name':'WEIGHT_VALUE'  ,'label':''  ,'pos_x':10  ,'pos_y':60  ,'value':'30.0                                 28.0' , } ,\n",
    "                  {'name':'COMPANY NAME'  ,'label':''  ,'pos_x':10  ,'pos_y':100  ,'value':'MY COMPANY' , } \n",
    "                 ] \n",
    "                \n",
    "        }]\n",
    "\n",
    "\n",
    "lines_y = [11,21,31,41,51,61]\n",
    "lines_w =[51] \n",
    "w = 101.6\n",
    "h = w\n",
    "r_margin=2\n",
    "\n",
    "\n",
    "pdf = FPDF()\n",
    "pdf.set_font(\"Helvetica\")\n",
    "pdf.add_page(format=(w,h))\n",
    "\n",
    "# Border & line\n",
    "\n",
    "pdf.set_line_width(0.5)\n",
    "pdf.set_draw_color(r=0, g=0, b=0)\n",
    "pdf.rect(r_margin, r_margin, w-(2*r_margin), h-(2*r_margin)-10, round_corners=False, style=\"D\")\n",
    "\n",
    "for y_pos in lines_y:\n",
    "    pdf.line(x1=r_margin, y1=y_pos, x2= w-(r_margin), y2=y_pos)\n",
    "for x_pos in lines_w:\n",
    "    pdf.line(x1=x_pos, y1=41, x2= x_pos, y2=60)    \n",
    "    \n",
    "## LABEL & VALUE  \n",
    "data_ = data[0][\"fields\"]\n",
    "for p in data[0][\"fields\"] :\n",
    "    if len(p['label']) > 0:\n",
    "        pdf.text(x=p['pos_x'], y=p['pos_y'],txt= p['label']+' : '+ p['value'])\n",
    "    else:\n",
    "        pdf.text(x=p['pos_x'], y=p['pos_y'],txt=  p['value'])\n",
    "\n",
    "        \n",
    "#QR CODE\n",
    "\n",
    "qr_w = 25\n",
    "qr_h = qr_w\n",
    "qr_y = h- (2*r_margin)-10-qr_h\n",
    "\n",
    "#left\n",
    "img = qrcode.make('Product description ')\n",
    "pdf.image(img.get_image(), x =r_margin+1 , y=qr_y, w =  qr_w, h= qr_h)\n",
    "\n",
    "#right\n",
    "img = qrcode.make(\"website or contact here\")\n",
    "pdf.image(img.get_image(), x=w-qr_w-5, y=qr_y, w =  qr_w, h= qr_h)\n",
    "\n",
    "\n",
    "\n",
    "pdf.output(\"label.pdf\")\n"
   ]
  },
  {
   "cell_type": "code",
   "execution_count": null,
   "id": "a82874dd-dd1e-457a-8287-bfc2f27ca2c7",
   "metadata": {},
   "outputs": [],
   "source": []
  },
  {
   "cell_type": "code",
   "execution_count": null,
   "id": "eab10dc8-adbb-4b4d-82d2-3c0cc046c158",
   "metadata": {},
   "outputs": [],
   "source": []
  },
  {
   "cell_type": "code",
   "execution_count": null,
   "id": "57013fd7-e9a1-46e9-a070-3646525fe0d7",
   "metadata": {},
   "outputs": [],
   "source": []
  }
 ],
 "metadata": {
  "kernelspec": {
   "display_name": "Python 3 (ipykernel)",
   "language": "python",
   "name": "python3"
  },
  "language_info": {
   "codemirror_mode": {
    "name": "ipython",
    "version": 3
   },
   "file_extension": ".py",
   "mimetype": "text/x-python",
   "name": "python",
   "nbconvert_exporter": "python",
   "pygments_lexer": "ipython3",
   "version": "3.9.7"
  }
 },
 "nbformat": 4,
 "nbformat_minor": 5
}
