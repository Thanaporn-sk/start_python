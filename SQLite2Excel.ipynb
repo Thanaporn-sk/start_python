{
 "cells": [
  {
   "cell_type": "code",
   "execution_count": null,
   "id": "05aee87d-ba90-43a4-a47c-6618881d5184",
   "metadata": {},
   "outputs": [],
   "source": [
    "# This program for convert multiple SQLite database files into .xlsx : \n",
    "# input 1: Directory name that contain database files. \n",
    "#input 2: db file extension : .db .rdb .sqlite .sqlite3 .db3    (SQLite format file)"
   ]
  },
  {
   "cell_type": "code",
   "execution_count": null,
   "id": "48e19793-0152-4070-9e5c-1b2e1b07a67c",
   "metadata": {},
   "outputs": [],
   "source": [
    "import pandas as pd\n",
    "import numpy as np\n",
    "#from sqlalchemy import create_engine\n",
    "import sqlite3\n",
    "import os"
   ]
  },
  {
   "cell_type": "code",
   "execution_count": null,
   "id": "d7848bcd-94a0-4bd1-ac9b-d0b92aaa4a21",
   "metadata": {},
   "outputs": [],
   "source": [
    "all_df=[]"
   ]
  },
  {
   "cell_type": "code",
   "execution_count": null,
   "id": "71003756-df0d-451b-876a-d6a9d0f0fc78",
   "metadata": {},
   "outputs": [],
   "source": [
    "def df2xlsx(df = None, filename = None, sheetname = None):\n",
    "    with pd.ExcelWriter(filename , engine = 'openpyxl') as writer:      \n",
    "            df.to_excel(writer, sheet_name = sheetname , index = False)\n",
    "    "
   ]
  },
  {
   "cell_type": "code",
   "execution_count": null,
   "id": "35432ea3-657c-44a1-9ec3-7f886f6465b0",
   "metadata": {},
   "outputs": [],
   "source": [
    "#https://pandas.pydata.org/pandas-docs/stable/reference/api/pandas.DataFrame.to_excel.html\n",
    "def SQLliteToExcel(filepath=None):\n",
    "    print('SQLiteToExcel..:' + filepath)\n",
    "    conn = sqlite3.connect(filepath)\n",
    "    filename = './'+ filepath.split('\\\\')[2].split('.')[0].replace(' ','_').lower() + '.xlsx'\n",
    "    tbs = pd.read_sql(\"SELECT name FROM sqlite_master where type='table'\", conn)\n",
    "    for index, row in tbs.iterrows():\n",
    "        print(index)\n",
    "        tdata= pd.read_sql(\"select * from \" + row['name'], conn)\n",
    "        #select VarName,TimeString,VarValue,Validity, date(Time_ms / 1000, 'unixepoch') from logdata\n",
    "        print(len(tdata))\n",
    "        all_df.append(tdata)\n",
    "        with pd.ExcelWriter(filename,engine = 'openpyxl') as writer:      \n",
    "            tdata.to_excel(writer, sheet_name=row['name'],index=False)\n",
    "#SQLliteToExcel() "
   ]
  },
  {
   "cell_type": "code",
   "execution_count": null,
   "id": "991a7c65-5d42-45ee-8271-99645541d983",
   "metadata": {},
   "outputs": [],
   "source": [
    "\n",
    "def list_files(filepath, filetype):\n",
    "    paths = []\n",
    "    for root, dirs, files in os.walk(filepath):\n",
    "        for file in files:\n",
    "            if file.lower().endswith(filetype.lower()):\n",
    "                paths.append(os.path.join(root, file))\n",
    "    return(paths)"
   ]
  },
  {
   "cell_type": "code",
   "execution_count": null,
   "id": "2cd0f291-27b2-41b6-acdf-6e272dcb75af",
   "metadata": {},
   "outputs": [],
   "source": [
    "\n",
    "fpath='//Path/to/your/db/directory/'  #source directory name\n",
    "file_ext='rdb' #.db .rdb .sqlite .sqlite3 .db3\n",
    "\n",
    "all_df=[]\n",
    "fs= list_files(fpath,file_ext)\n",
    "for f in fs:\n",
    "    print(f)\n",
    "    SQLliteToExcel(f)\n",
    "    \n",
    "adf = pd.concat(all_df)\n",
    "df2xlsx(adf,'./all.xlsx','all')  # merge all to one sheet \n",
    "#ValueError: This sheet is too large! Your sheet size is: 1205087, 5 Max sheet size is: 1048576, 16384"
   ]
  },
  {
   "cell_type": "code",
   "execution_count": null,
   "id": "38a63c0b-8db5-4585-a50c-0c2882a00a3a",
   "metadata": {},
   "outputs": [],
   "source": []
  }
 ],
 "metadata": {
  "kernelspec": {
   "display_name": "Python 3 (ipykernel)",
   "language": "python",
   "name": "python3"
  },
  "language_info": {
   "codemirror_mode": {
    "name": "ipython",
    "version": 3
   },
   "file_extension": ".py",
   "mimetype": "text/x-python",
   "name": "python",
   "nbconvert_exporter": "python",
   "pygments_lexer": "ipython3",
   "version": "3.9.7"
  }
 },
 "nbformat": 4,
 "nbformat_minor": 5
}
